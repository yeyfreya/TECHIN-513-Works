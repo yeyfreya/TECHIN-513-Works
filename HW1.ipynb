{
 "cells": [
  {
   "cell_type": "markdown",
   "metadata": {},
   "source": [
    "# TECHIN 513 HW 1 – Modifying Signals\n",
    "\n",
    "Freya Yu 2372732"
   ]
  },
  {
   "cell_type": "markdown",
   "metadata": {},
   "source": [
    "## Assignment 1"
   ]
  },
  {
   "cell_type": "code",
   "execution_count": 24,
   "metadata": {},
   "outputs": [
    {
     "ename": "FileNotFoundError",
     "evalue": "[Errno 2] No such file or directory: 'path_to_train.wav'",
     "output_type": "error",
     "traceback": [
      "\u001b[0;31m---------------------------------------------------------------------------\u001b[0m",
      "\u001b[0;31mFileNotFoundError\u001b[0m                         Traceback (most recent call last)",
      "\u001b[1;32m/Users/littleshadow/TECHIN-513-Works/HW1.ipynb Cell 3\u001b[0m line \u001b[0;36m4\n\u001b[1;32m      <a href='vscode-notebook-cell:/Users/littleshadow/TECHIN-513-Works/HW1.ipynb#W0sZmlsZQ%3D%3D?line=0'>1</a>\u001b[0m \u001b[39mimport\u001b[39;00m \u001b[39mscipy\u001b[39;00m\u001b[39m.\u001b[39;00m\u001b[39mio\u001b[39;00m\u001b[39m.\u001b[39;00m\u001b[39mwavfile\u001b[39;00m \u001b[39mas\u001b[39;00m \u001b[39mwav\u001b[39;00m\n\u001b[1;32m      <a href='vscode-notebook-cell:/Users/littleshadow/TECHIN-513-Works/HW1.ipynb#W0sZmlsZQ%3D%3D?line=1'>2</a>\u001b[0m \u001b[39mimport\u001b[39;00m \u001b[39msimpleaudio\u001b[39;00m \u001b[39mas\u001b[39;00m \u001b[39msa\u001b[39;00m\n\u001b[0;32m----> <a href='vscode-notebook-cell:/Users/littleshadow/TECHIN-513-Works/HW1.ipynb#W0sZmlsZQ%3D%3D?line=3'>4</a>\u001b[0m fs1, x1 \u001b[39m=\u001b[39m wav\u001b[39m.\u001b[39mread(\u001b[39m'\u001b[39m\u001b[39mpath_to_train.wav\u001b[39m\u001b[39m'\u001b[39m)\n\u001b[1;32m      <a href='vscode-notebook-cell:/Users/littleshadow/TECHIN-513-Works/HW1.ipynb#W0sZmlsZQ%3D%3D?line=4'>5</a>\u001b[0m \u001b[39mprint\u001b[39m(\u001b[39m\"\u001b[39m\u001b[39mSampling Rate:\u001b[39m\u001b[39m\"\u001b[39m, fs1)\n\u001b[1;32m      <a href='vscode-notebook-cell:/Users/littleshadow/TECHIN-513-Works/HW1.ipynb#W0sZmlsZQ%3D%3D?line=5'>6</a>\u001b[0m \u001b[39mprint\u001b[39m(\u001b[39m\"\u001b[39m\u001b[39mShape of Audio Vector:\u001b[39m\u001b[39m\"\u001b[39m, x1\u001b[39m.\u001b[39mshape)\n",
      "File \u001b[0;32m~/anaconda3/lib/python3.11/site-packages/scipy/io/wavfile.py:647\u001b[0m, in \u001b[0;36mread\u001b[0;34m(filename, mmap)\u001b[0m\n\u001b[1;32m    645\u001b[0m     mmap \u001b[39m=\u001b[39m \u001b[39mFalse\u001b[39;00m\n\u001b[1;32m    646\u001b[0m \u001b[39melse\u001b[39;00m:\n\u001b[0;32m--> 647\u001b[0m     fid \u001b[39m=\u001b[39m \u001b[39mopen\u001b[39m(filename, \u001b[39m'\u001b[39m\u001b[39mrb\u001b[39m\u001b[39m'\u001b[39m)\n\u001b[1;32m    649\u001b[0m \u001b[39mtry\u001b[39;00m:\n\u001b[1;32m    650\u001b[0m     file_size, is_big_endian \u001b[39m=\u001b[39m _read_riff_chunk(fid)\n",
      "\u001b[0;31mFileNotFoundError\u001b[0m: [Errno 2] No such file or directory: 'path_to_train.wav'"
     ]
    }
   ],
   "source": [
    "import scipy.io.wavfile as wav\n",
    "import simpleaudio as sa\n",
    "\n",
    "fs1, x1 = wav.read('path_to_train.wav')\n",
    "print(\"Sampling Rate:\", fs1)\n",
    "print(\"Shape of Audio Vector:\", x1.shape)\n",
    "\n",
    "from scipy.signal import resample\n",
    "x2 = resample(x1, int(len(x1)/2))\n",
    "x3 = resample(x1, int(1.5 * len(x1)))\n",
    "wav.write('train_half.wav', fs1//2, x2)\n",
    "wav.write('train_1_5_times.wav', int(fs1*1.5), x3)\n",
    "\n",
    "def play_audio(file):\n",
    "    wave_obj = sa.WaveObject.from_wave_file(file)\n",
    "    play_obj = wave_obj.play()\n",
    "    play_obj.wait_done()\n",
    "\n",
    "play_audio('train32.wav')\n"
   ]
  },
  {
   "cell_type": "markdown",
   "metadata": {},
   "source": [
    "### Report discussion: "
   ]
  }
 ],
 "metadata": {
  "kernelspec": {
   "display_name": "base",
   "language": "python",
   "name": "python3"
  },
  "language_info": {
   "codemirror_mode": {
    "name": "ipython",
    "version": 3
   },
   "file_extension": ".py",
   "mimetype": "text/x-python",
   "name": "python",
   "nbconvert_exporter": "python",
   "pygments_lexer": "ipython3",
   "version": "3.11.5"
  }
 },
 "nbformat": 4,
 "nbformat_minor": 2
}
