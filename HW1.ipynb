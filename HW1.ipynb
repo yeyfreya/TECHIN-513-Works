{
 "cells": [
  {
   "cell_type": "markdown",
   "metadata": {},
   "source": [
    "# TECHIN 513 HW 1 – Modifying Signals\n",
    "\n",
    "Freya Yu 2372732"
   ]
  },
  {
   "cell_type": "markdown",
   "metadata": {},
   "source": [
    "## Assignment 1: Working with Sound Files"
   ]
  },
  {
   "cell_type": "code",
   "execution_count": 8,
   "metadata": {},
   "outputs": [
    {
     "name": "stdout",
     "output_type": "stream",
     "text": [
      "Sampling Rate: 32000\n",
      "Shape of Audio Vector: (50313,)\n"
     ]
    }
   ],
   "source": [
    "import scipy.io.wavfile as wav\n",
    "import simpleaudio as sa\n",
    "\n",
    "# Part A: Reading the Sound File\n",
    "fs1, x1 = wav.read('train32.wav')\n",
    "print(\"Sampling Rate:\", fs1)\n",
    "print(\"Shape of Audio Vector:\", x1.shape)\n",
    "\n",
    "# Part B: Resampling and Saving\n",
    "from scipy.signal import resample\n",
    "wav.write('train_half.wav', fs1//2, x1)\n",
    "wav.write('train_1_5_times.wav', int(fs1*1.5), x1)\n",
    "\n",
    "# Part C: Playing Audio\n",
    "def play_audio(file):\n",
    "    wave_obj = sa.WaveObject.from_wave_file(file)\n",
    "    play_obj = wave_obj.play()\n",
    "    play_obj.wait_done()\n",
    "\n",
    "play_audio('train32.wav')\n",
    "play_audio('train_half.wav')\n",
    "play_audio('train_1_5_times.wav')"
   ]
  },
  {
   "cell_type": "markdown",
   "metadata": {},
   "source": [
    "### Report discussion: "
   ]
  },
  {
   "cell_type": "markdown",
   "metadata": {},
   "source": []
  },
  {
   "cell_type": "markdown",
   "metadata": {},
   "source": [
    "## Assignment 2: Amplitude Operations on Signals"
   ]
  },
  {
   "cell_type": "code",
   "execution_count": 11,
   "metadata": {},
   "outputs": [],
   "source": [
    "import numpy as np\n",
    "\n",
    "# Part A: Signal Multiplication and Saving\n",
    "\n",
    "s1 = np.random.rand(*x1.shape)\n",
    "v1 = s1 * x1\n",
    "wav.write('v1.wav', fs1, v1.astype(np.int16))\n",
    "\n",
    "# Part B: Decaying Ramp Signal\n",
    "\n",
    "r1 = np.linspace(1, 0, num=len(x1))\n",
    "v2 = r1 * x1\n",
    "wav.write('v2.wav', fs1, v2.astype(np.int16))\n",
    "\n",
    "# Part C: Playing Audio\n",
    "\n",
    "play_audio('v1.wav')\n",
    "play_audio('v2.wav')"
   ]
  },
  {
   "cell_type": "markdown",
   "metadata": {},
   "source": [
    "### Report discussion: "
   ]
  },
  {
   "cell_type": "markdown",
   "metadata": {},
   "source": []
  },
  {
   "cell_type": "markdown",
   "metadata": {},
   "source": [
    "## Assignment 3: Time Scaling Audio Signals"
   ]
  },
  {
   "cell_type": "code",
   "execution_count": 12,
   "metadata": {},
   "outputs": [],
   "source": [
    "# Part A: Time Scale Function\n",
    "\n"
   ]
  }
 ],
 "metadata": {
  "kernelspec": {
   "display_name": "base",
   "language": "python",
   "name": "python3"
  },
  "language_info": {
   "codemirror_mode": {
    "name": "ipython",
    "version": 3
   },
   "file_extension": ".py",
   "mimetype": "text/x-python",
   "name": "python",
   "nbconvert_exporter": "python",
   "pygments_lexer": "ipython3",
   "version": "3.11.5"
  }
 },
 "nbformat": 4,
 "nbformat_minor": 2
}
